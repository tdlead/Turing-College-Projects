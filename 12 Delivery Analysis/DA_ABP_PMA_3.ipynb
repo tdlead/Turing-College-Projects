{
  "nbformat": 4,
  "nbformat_minor": 0,
  "metadata": {
    "colab": {
      "provenance": []
    },
    "kernelspec": {
      "name": "python3",
      "display_name": "Python 3"
    },
    "language_info": {
      "name": "python"
    }
  },
  "cells": [
    {
      "cell_type": "markdown",
      "source": [
        "# Module: Analyzing Business Problems\n",
        "## Sprint: Payments / Monetisation Analyst\n",
        "## Part 3: Graded task\n",
        "\n",
        "Your manager is very happy with the data you provided him the week before, but now he is interested in how you can handle analysis on your own. He does not give you concrete questions to be answered, just asks you to use any data in the company databases and come up with a useful analysis on your own. It can be from different aspects of the business, but he expects you to provide him with at least 3-5 insights about business.\n",
        "\n",
        "You should use tables from [olist_db](https://console.cloud.google.com/bigquery?project=tc-da-1&ws=!1m5!1m4!4m3!1stc-da-1!2solist_db!3solist_customesr_dataset&j=bq:US:bquxjob_439ea020_17f990edf1c&page=queryresults) to come up with an analysis on your own. You will have to write SQL queries to extract needed data, then analyze and make a visualisation using your preferred data visualisation tool (Google Sheets / Tableau / Looker Studio). After all this, you will have to come up with a presentation oriented to executives from your company. Have in mind your audience for the presentation, these will be business oriented people who are not data analysts and may not have studied statistics before.\n",
        "\n",
        "- Write SQL queries to extract needed data, these queries should be well documented, with indentation and provided in separate file\n",
        "- Provide your analysis in preferred data visualisation tool (Google Sheets / Tableau / Looker Studio), have in mind that this file should contain all the things you tried to look at even if they did not bring any useful insights\n",
        "- Provide presentation with around 10 slides which would be business focused and would present only the most interesting 3-5 insights\n",
        "- See whether you can apply at least 2 techniques learned in this or previous sprints\n",
        "- Explore the data. See whether there are interesting data points that can give more insights to your presentation.\n",
        "- Provide analytical insights, what are the drawbacks of this analysis, what further analysis could you recommend?\n",
        "- Do not forget how you should structure your presentation which you learnt during the first sprint of the first module.\n",
        "\n",
        "*Tip: to make valuable business insights, it’s almost never enough to only look at the data. It is often very beneficial to do some additional research about the industry and the business as well. Such ability to learn quickly about different domains is an extremely valuable skill, especially when starting jobs at new companies.*\n",
        "\n",
        "## Evaluation criteria for a Graded project submission\n",
        "\n",
        "- SQL is nicely formatted and there are no logic errors in queries.\n",
        "- You have followed analysis steps correctly and clearly communicated in your presentation what you were looking for with your analysis, results, and provided further recommendations.\n",
        "- You have understood the payments / monetisation topic and managed to use at least 1 technique which you learnt in this module.\n",
        "- You have successfully used at least 2 techniques learnt previously.\n",
        "- Analysis, findings and main points clearly structured.\n",
        "- Analytical approach to the problem. Using data analysis to provide justified, useful and actionable insights\n",
        "\n",
        "\n",
        "*During a task review, you may get asked questions that test your understanding of covered topics.*\n",
        "\n",
        "**Sample questions:**\n",
        "\n",
        "- Why is using transactional data useful from payments / monetisation perspective?\n",
        "- How could you use longitude and latitude data of Olist to analyze business performance?\n",
        "- What is the Pareto principle? Does it apply to Olist data?\n",
        "\n",
        "\n",
        "## Submission\n",
        "Upload to your GitHub repository a .sql file and all relevant solution files for this graded task using the \"Add File\" function.\n",
        "\n",
        "As you are getting more and more comfortable with GitHub, a good practice is to include a comprehensive README file for your project. This file could contain code examples and other vital information for your project.\n",
        "\n",
        "## Accessing the next notebook:\n",
        "\n",
        "After you schedule your project reviews, you can already start working on the next part from the upcoming optional module. But before moving forward please familiarize with the module descriptions:\n",
        "\n",
        "- [Specialisation: Python for Data Analytics](https://drive.google.com/file/d/1ZO4Ym_lck-nHxpychRPwz115FmyC8E8h/view?usp=share_link)\n",
        "- [Specialisation: Risk Analyst](https://drive.google.com/file/d/1TWpLtR8TefyxvaP4QWEs4cnleqIRVKsS/view?usp=share_link)\n",
        "- [Specialisation: Financial Analyst](https://drive.google.com/file/d/106srPVGfDQzVcJdq4yKIGvFRPLxun8eL/view?usp=share_link)\n",
        "- [Data Analytics Capstone Project](https://drive.google.com/file/d/1572JZyVlYH9DJ20aPg3dDJLZPJr0NwDE/view?usp=share_link)\n",
        "\n",
        "Afterwards, contact Turing Staff via the chat function in the [platform](http://intra.turingcollege.com) to receive the access for specialisation module or the Capstone project. Once the project review is completed, you will be able to see or choose the content in normal way.\n",
        "\n",
        "For those who did not have completed module **Communicating Analysis Results** due to the different course track, continue with this module.\n",
        "\n",
        "P.S. You will have the access for all the specialisation modules.\n"
      ],
      "metadata": {
        "id": "RGASlyizUCNw"
      }
    }
  ]
}